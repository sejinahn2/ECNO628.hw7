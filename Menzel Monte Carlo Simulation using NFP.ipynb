{
 "cells": [
  {
   "cell_type": "markdown",
   "metadata": {},
   "source": [
    "# Monte-Carlo For Menzel 2015 Econometrica"
   ]
  },
  {
   "cell_type": "code",
   "execution_count": 1,
   "metadata": {},
   "outputs": [],
   "source": [
    "using LinearAlgebra, Statistics, ForwardDiff, JuMP, LinearAlgebra, Distributions, Random\n",
    "using Optim\n",
    "using Optim: converged, maximum, maximizer, minimizer, iterations "
   ]
  },
  {
   "cell_type": "markdown",
   "metadata": {},
   "source": [
    "# The Following Function Calculates the systematic parts of the Pay-Offs"
   ]
  },
  {
   "cell_type": "code",
   "execution_count": 2,
   "metadata": {},
   "outputs": [
    {
     "data": {
      "text/plain": [
       "makeindex (generic function with 1 method)"
      ]
     },
     "execution_count": 2,
     "metadata": {},
     "output_type": "execute_result"
    }
   ],
   "source": [
    "function makeindex(X_women,X_men,θ_w)\n",
    "    nw,k=size(X_women)\n",
    "    nm,k=size(X_men)\n",
    "    \n",
    "    tw_own=θ_w[1:k]\n",
    "    tw_oth=θ_w[k+1:2*k]\n",
    "    tw_diff=θ_w[2*k+1:3*k]\n",
    "    tw_dist=θ_w[3*k+1:4*k]\n",
    "    \n",
    "    Xb = reshape((repeat(X_women,nm,1)-reshape(repeat(X_men',nw,1),k,nm*nw)').^2*tw_dist,nw,nm);\n",
    "    \n",
    "    Xb = Xb + repeat(X_women*tw_own,1,nm) + repeat(tw_oth',nw,1)*X_men';\n",
    "    Xb = Xb + repeat(X_women*tw_diff,1,nm) - repeat(tw_diff',nw,1)*X_men';\n",
    "    \n",
    "    return Xb\n",
    "end\n",
    "    "
   ]
  },
  {
   "cell_type": "markdown",
   "metadata": {},
   "source": [
    "# The Gale-Shapley: Proposer = U "
   ]
  },
  {
   "cell_type": "code",
   "execution_count": 3,
   "metadata": {},
   "outputs": [
    {
     "data": {
      "text/plain": [
       "Gale_Shapley (generic function with 1 method)"
      ]
     },
     "execution_count": 3,
     "metadata": {},
     "output_type": "execute_result"
    }
   ],
   "source": [
    "function Gale_Shapley(U,V)\n",
    "    nw,nm=size(U)\n",
    "    U_temp=U\n",
    "    nmax=10*nw*nm\n",
    "    \n",
    "    for i in 1:nmax\n",
    "        Prop = Int.((U_temp.==repeat(max.(findmax(U_temp,dims=2)[1],0),1,nm)))\n",
    "        Rej = Prop.*(Int.((Prop.*V .< max.(0,repeat(findmax(Prop.*V,dims=1)[1],nw,1)))))\n",
    "        U_temp[Rej.== Prop].=-1;\n",
    "        \n",
    "        if sum(sum(Rej))==0\n",
    "            break\n",
    "        end\n",
    "        \n",
    "    end\n",
    "    \n",
    "   return μ= Int.((U_temp.==repeat(max.(findmax(U_temp,dims=2)[1],0),1,nm)))\n",
    "    \n",
    "end\n",
    "    "
   ]
  },
  {
   "cell_type": "markdown",
   "metadata": {},
   "source": [
    "# The Loglikelihood Function"
   ]
  },
  {
   "cell_type": "code",
   "execution_count": 8,
   "metadata": {},
   "outputs": [
    {
     "data": {
      "text/plain": [
       "loglik2 (generic function with 1 method)"
      ]
     },
     "execution_count": 8,
     "metadata": {},
     "output_type": "execute_result"
    }
   ],
   "source": [
    "function loglik2(θ::Vector,μ::AbstractArray,X::AbstractArray,Z::AbstractArray)\n",
    "    \n",
    "    if θ[1]>=0 && θ[2]>=0 && θ[3]>=0 && θ[1]<=1 && θ[2]<=1 && θ[3]<=2\n",
    "    \n",
    "        nw=length(X);\n",
    "        nm=length(Z);    \n",
    "        βw=[θ[1:2]...;0;0;0;0;0;θ[3]...]\n",
    "        βm=βw;\n",
    "    \n",
    "        tol=1e-8\n",
    "        maxiter=100\n",
    "        Γold=zeros(4)\n",
    "        i=0\n",
    "    \n",
    "    \n",
    "        while norm(Ψ_fp1(βw,Γold,X,Z)-Γold)>tol && i<=10000\n",
    "        Γold=Ψ_fp1(βw,Γold,X,Z)\n",
    "        i=i+1\n",
    "        end\n",
    "   \n",
    "        Γ=Ψ_fp1(βw,Γold,X,Z)      \n",
    "    \n",
    "    \n",
    "        Γ_w_mat = log.((1 .+ Γ[1].*(1 .-X[:,2]) + Γ[2].*X[:,2]));\n",
    "        Γ_m_mat = log.((1 .+ Γ[3].*(1 .-Z[:,2]) + Γ[4].*Z[:,2]));\n",
    "    \n",
    "        U_star = makeindex(X,Z,βw);\n",
    "        V_star = makeindex(Z,X,βm)';\n",
    "   \n",
    "        W_star = μ.*(U_star + V_star);\n",
    "    \n",
    "    \n",
    "        mar_w = sum(μ,dims=2);\n",
    "        mar_m = sum(μ,dims=1)';\n",
    "    \n",
    "        LL = -(2*sum(sum(W_star)) - sum((1 .+mar_w).*Γ_w_mat) - sum((1 .+mar_m).*Γ_m_mat));\n",
    "        return LL\n",
    "    else\n",
    "        return 1e8\n",
    "    end\n",
    "end\n",
    "\n",
    "\n"
   ]
  },
  {
   "cell_type": "markdown",
   "metadata": {},
   "source": [
    "# Fixed Point Constraint"
   ]
  },
  {
   "cell_type": "code",
   "execution_count": 6,
   "metadata": {},
   "outputs": [
    {
     "data": {
      "text/plain": [
       "Ψ_fp1 (generic function with 1 method)"
      ]
     },
     "execution_count": 6,
     "metadata": {},
     "output_type": "execute_result"
    }
   ],
   "source": [
    "function Ψ_fp1(θ::Vector,Γ_0::Vector,X::AbstractArray,Z::AbstractArray)\n",
    "    \n",
    "        \n",
    "    nw = length(X);\n",
    "    nm = length(Z);\n",
    "    k = length(θ);\n",
    "    β_w = θ[1:k];\n",
    "    β_m = θ[1:k];\n",
    "    \n",
    "    \n",
    "    Γ_w_mat = 1 .+ Γ_0[1].*(1 .-X[:,2]) + Γ_0[2].*X[:,2];\n",
    "    Γ_m_mat = 1 .+ Γ_0[3].*(1 .-Z[:,2]) + Γ_0[4].*Z[:,2];\n",
    "    \n",
    "    Xw = [1 0;1 1];\n",
    "    \n",
    "    U_star = makeindex(Xw,Z,β_w);\n",
    "    V_star = makeindex(Z,Xw,β_m)';\n",
    "    W_star_w = U_star + V_star;\n",
    "    \n",
    "    Zm = [1 0;1 1];\n",
    "    \n",
    "    \n",
    "    U_star = makeindex(X,Zm,β_w);\n",
    "    V_star = makeindex(Zm,X,β_m)';\n",
    "    W_star_m = U_star + V_star;\n",
    "    \n",
    "    Ψ_w = mean((exp.(W_star_w))' ./repeat(Γ_m_mat,1,2),dims=1);\n",
    "    Ψ_m = mean(exp.(W_star_m)./repeat(Γ_w_mat,1,2),dims=1);\n",
    "    Ψ = [Ψ_w'..., Ψ_m'...]\n",
    "    \n",
    "    #Ψ_ineq = zeros(4,1);\n",
    "    return Ψ\n",
    "    \n",
    "end"
   ]
  },
  {
   "cell_type": "markdown",
   "metadata": {},
   "source": [
    "# MonteCarlo"
   ]
  },
  {
   "cell_type": "code",
   "execution_count": 9,
   "metadata": {},
   "outputs": [
    {
     "name": "stdout",
     "output_type": "stream",
     "text": [
      "minimum = 41.97508332896412 with argmin = [1.0, 1.0, 1.0] in 88 iterations\n",
      "minimum = 50.21108992375649 with argmin = [1.0, 1.0, 1.0] in 88 iterations\n",
      "minimum = 55.538152604761656 with argmin = [1.0, 1.0, 1.0] in 88 iterations\n",
      "minimum = 58.42828456156438 with argmin = [1.0, 1.0, 1.0] in 88 iterations\n",
      "minimum = 50.21108992375648 with argmin = [1.0, 1.0, 1.0] in 88 iterations\n",
      "minimum = 74.64547919937232 with argmin = [1.0, 1.0, 1.0] in 88 iterations\n",
      "minimum = 52.86521528576684 with argmin = [1.0, 1.0, 1.0] in 88 iterations\n",
      "minimum = 55.65615590215785 with argmin = [1.0, 1.0, 1.0] in 88 iterations\n",
      "minimum = 58.428284561564396 with argmin = [1.0, 1.0, 1.0] in 88 iterations\n",
      "minimum = 47.538152604761656 with argmin = [1.0, 1.0, 1.0] in 88 iterations\n",
      "minimum = 66.4282845615644 with argmin = [1.0, 1.0, 1.0] in 88 iterations\n",
      "minimum = 58.192277966772025 with argmin = [1.0, 1.0, 1.0] in 88 iterations\n",
      "minimum = 52.865215285766844 with argmin = [1.0, 1.0, 1.0] in 88 iterations\n",
      "minimum = 44.7660239453551 with argmin = [1.0, 1.0, 1.0] in 88 iterations\n",
      "minimum = 69.2192251779554 with argmin = [1.0, 1.0, 1.0] in 88 iterations\n",
      "minimum = 66.4282845615644 with argmin = [1.0, 1.0, 1.0] in 88 iterations\n",
      "minimum = 69.31841651836712 with argmin = [1.0, 1.0, 1.0] in 88 iterations\n",
      "minimum = 71.63734394517338 with argmin = [1.0, 1.0, 1.0] in 88 iterations\n",
      "minimum = 63.75534724256957 with argmin = [1.0, 1.0, 1.0] in 88 iterations\n",
      "minimum = 44.76602394535513 with argmin = [1.0, 1.0, 1.0] in 88 iterations\n"
     ]
    },
    {
     "data": {
      "text/plain": [
       "3×1 Array{Float64,2}:\n",
       " 0.9999999999999999\n",
       " 0.9999999999999999\n",
       " 1.0               "
      ]
     },
     "execution_count": 9,
     "metadata": {},
     "output_type": "execute_result"
    }
   ],
   "source": [
    "        \n",
    "Random.seed!(1234)\n",
    "\n",
    "\n",
    "\n",
    "beta_sim=zeros(3,20)\n",
    "\n",
    "for b in 1:20\n",
    "\n",
    "        n=20\n",
    "        alpha=0.5\n",
    "        n2 =Int(n/2)\n",
    "        X = repeat([1.0 0.0;1.0 1.0],n2,1)\n",
    "        Z = repeat([1.0 0.0;1.0 1.0],n2,1)\n",
    "\n",
    "        beta_w = [1;0;0;0;0;0;0;1];\n",
    "        beta_m = [1;0;0;0;0;0;0;1];\n",
    "        \n",
    "        beta_w = [alpha;0.5;0;0;0;0;0;1];\n",
    "        beta_m = [alpha;0.5;0;0;0;0;0;1];\n",
    "       \n",
    "        \n",
    "        U_star = makeindex(X,Z,beta_w);\n",
    "        V_star = makeindex(Z,X,beta_m)'\n",
    "\n",
    "        η=-log.(-log.(rand(n,n)));\n",
    "        ζ=-log.(-log.(rand(n,n)))\n",
    "        \n",
    "        J=Int(round(sqrt(n)))\n",
    "        η₀=repeat(findmax(-log.(-log.(rand(J,n))),dims=1)[1]',1,n)\n",
    "        ζ₀=repeat(findmax(-log.(-log.(rand(J,n))),dims=1)[1],n,1)\n",
    "\n",
    "        η=η-η₀\n",
    "        ζ=ζ-ζ₀\n",
    "        \n",
    "        U=U_star+η\n",
    "        V=V_star+ζ\n",
    "\n",
    "        μ=Gale_Shapley(U,V)\n",
    "        \n",
    "    \n",
    "        \n",
    "\n",
    "        #k = length(beta_w);\n",
    "        \n",
    "       #theta_0 = [beta_w...,beta_m...,zeros(4)...];\n",
    "        #theta_0 = [0.5 .*ones(20)...]\n",
    "\n",
    "        \n",
    "        #thetalambda_0=[theta_0...,0.5 .*ones(32)...]\n",
    "        logtmp(x)=loglik2(x,μ,X,Z);  \n",
    "        function gradlog!(G,x)\n",
    "            tmp= y->ForwardDiff.gradient(logtmp,y)\n",
    "            G=tmp(x)\n",
    "        end\n",
    "        \n",
    "\n",
    "\n",
    "        lower = zeros(3)\n",
    "        upper= [Inf;Inf;Inf]#Inf;Inf;Inf;Inf;Inf]\n",
    "        \n",
    "        results = Optim.optimize(logtmp,ones(3),NelderMead())\n",
    "        println(\"minimum = $(results.minimum) with argmin = $(results.minimizer[1:3]) in $(results.iterations) iterations\")  \n",
    "        beta_sim[:,b]=results.minimizer\n",
    "        \n",
    "end  \n",
    "\n",
    "a=mean(beta_sim,dims=2)       "
   ]
  },
  {
   "cell_type": "code",
   "execution_count": null,
   "metadata": {},
   "outputs": [],
   "source": []
  }
 ],
 "metadata": {
  "kernelspec": {
   "display_name": "Julia 1.0.1",
   "language": "julia",
   "name": "julia-1.0"
  },
  "language_info": {
   "file_extension": ".jl",
   "mimetype": "application/julia",
   "name": "julia",
   "version": "1.0.1"
  }
 },
 "nbformat": 4,
 "nbformat_minor": 2
}
